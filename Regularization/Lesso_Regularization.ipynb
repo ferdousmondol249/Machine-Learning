{
 "cells": [
  {
   "cell_type": "code",
   "execution_count": null,
   "id": "e0a707f0",
   "metadata": {},
   "outputs": [
    {
     "ename": "NameError",
     "evalue": "name 'x' is not defined",
     "output_type": "error",
     "traceback": [
      "\u001b[1;31m---------------------------------------------------------------------------\u001b[0m",
      "\u001b[1;31mNameError\u001b[0m                                 Traceback (most recent call last)",
      "Cell \u001b[1;32mIn[1], line 1\u001b[0m\n\u001b[1;32m----> 1\u001b[0m y_pred \u001b[38;5;241m=\u001b[39m x \u001b[38;5;241m@\u001b[39m \u001b[38;5;28mself\u001b[39m\u001b[38;5;241m.\u001b[39mweight\n\u001b[0;32m      2\u001b[0m error \u001b[38;5;241m=\u001b[39m y_pred \u001b[38;5;241m-\u001b[39m y\n\u001b[0;32m      3\u001b[0m cost \u001b[38;5;241m=\u001b[39m (\u001b[38;5;241m1\u001b[39m \u001b[38;5;241m/\u001b[39m (\u001b[38;5;241m2\u001b[39m \u001b[38;5;241m*\u001b[39m sample)) \u001b[38;5;241m*\u001b[39m np\u001b[38;5;241m.\u001b[39msum(error \u001b[38;5;241m*\u001b[39m\u001b[38;5;241m*\u001b[39m \u001b[38;5;241m2\u001b[39m)\n",
      "\u001b[1;31mNameError\u001b[0m: name 'x' is not defined"
     ]
    }
   ],
   "source": [
    "class linear_regression_with_ridge:\n",
    "    def __init__(self, epochs, alpha, lamda):\n",
    "        self.alpha=alpha\n",
    "        self.epochs=epochs\n",
    "        self.lamda=lamda\n",
    "        self.weight=None\n",
    "        self.cost_array=[]\n",
    "        self.cost_ridge_array=[]\n",
    "\n",
    "    def fit(self, x, y):\n",
    "        sample, features=x.shape\n",
    "        self.weight=np.zeros((features+1,1))\n",
    "        x=np.hstack((np.ones((sample,1)),x))\n",
    "        \n",
    "        for i in range(self.epochs):\n",
    "\n",
    "            y_pred = x @ self.weight\n",
    "            error = y_pred - y\n",
    "            cost = (1 / (2 * sample)) * np.sum(error ** 2)\n",
    "            cost_lasso = cost + (self.lamda / (2 * sample)) * np.sum(np.abs(self.weight[1:]))\n",
    "\n",
    "            self.cost_array.append(cost)\n",
    "            self.cost_ridge_array.append(cost_lasso)\n",
    "\n",
    "            lasso_penalty = (self.lamda / sample) * np.sign(self.weight)\n",
    "            lasso_penalty[0] = 0  # optional: exclude bias from regularization\n",
    "\n",
    "            gradient = (1 / sample) * x.T @ error + lasso_penalty\n",
    "            self.weight -= self.alpha * gradient\n",
    "    def predict(self, x):\n",
    "        sample, features=x.shape\n",
    "        x=np.hstack((np.ones((sample,1)),x))\n",
    "        y_pred= x@ self.weight\n",
    "        return y_pred\n"
   ]
  }
 ],
 "metadata": {
  "kernelspec": {
   "display_name": "base",
   "language": "python",
   "name": "python3"
  },
  "language_info": {
   "codemirror_mode": {
    "name": "ipython",
    "version": 3
   },
   "file_extension": ".py",
   "mimetype": "text/x-python",
   "name": "python",
   "nbconvert_exporter": "python",
   "pygments_lexer": "ipython3",
   "version": "3.12.7"
  }
 },
 "nbformat": 4,
 "nbformat_minor": 5
}
